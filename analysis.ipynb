{
 "cells": [
  {
   "cell_type": "code",
   "execution_count": null,
   "metadata": {},
   "outputs": [],
   "source": [
    "from pathlib import Path\n",
    "\n",
    "import numpy as np\n",
    "import pandas as pd\n",
    "\n",
    "import analysis"
   ]
  },
  {
   "cell_type": "code",
   "execution_count": 2,
   "metadata": {},
   "outputs": [
    {
     "data": {
      "text/html": [
       "<div>\n",
       "<style scoped>\n",
       "    .dataframe tbody tr th:only-of-type {\n",
       "        vertical-align: middle;\n",
       "    }\n",
       "\n",
       "    .dataframe tbody tr th {\n",
       "        vertical-align: top;\n",
       "    }\n",
       "\n",
       "    .dataframe thead th {\n",
       "        text-align: right;\n",
       "    }\n",
       "</style>\n",
       "<table border=\"1\" class=\"dataframe\">\n",
       "  <thead>\n",
       "    <tr style=\"text-align: right;\">\n",
       "      <th></th>\n",
       "      <th>datetime</th>\n",
       "      <th>run_name</th>\n",
       "      <th>run_config</th>\n",
       "      <th>loss</th>\n",
       "      <th>val_loss</th>\n",
       "      <th>rms_dev</th>\n",
       "      <th>mae</th>\n",
       "      <th>std_diff</th>\n",
       "      <th>output_file</th>\n",
       "      <th>run_time</th>\n",
       "      <th>note</th>\n",
       "    </tr>\n",
       "  </thead>\n",
       "  <tbody>\n",
       "    <tr>\n",
       "      <th>0</th>\n",
       "      <td>2025-05-16 12:21</td>\n",
       "      <td>test</td>\n",
       "      <td>data/run/test.toml</td>\n",
       "      <td>data/result/2025-05-16 12:21_test/loss.dat</td>\n",
       "      <td>data/result/2025-05-16 12:21_test/val_loss.dat</td>\n",
       "      <td>0.714002</td>\n",
       "      <td>0.007102</td>\n",
       "      <td>0.713967</td>\n",
       "      <td>data/result/2025-05-16 12:21_test/result.csv</td>\n",
       "      <td>0:00:13.753124</td>\n",
       "      <td>sample note</td>\n",
       "    </tr>\n",
       "    <tr>\n",
       "      <th>1</th>\n",
       "      <td>2025-05-16 12:22</td>\n",
       "      <td>test</td>\n",
       "      <td>data/run/test.toml</td>\n",
       "      <td>data/result/2025-05-16 12:22_test/loss.dat</td>\n",
       "      <td>data/result/2025-05-16 12:22_test/val_loss.dat</td>\n",
       "      <td>0.567781</td>\n",
       "      <td>-0.081382</td>\n",
       "      <td>0.561918</td>\n",
       "      <td>data/result/2025-05-16 12:22_test/result.csv</td>\n",
       "      <td>0:00:32.467748</td>\n",
       "      <td>sample note</td>\n",
       "    </tr>\n",
       "    <tr>\n",
       "      <th>2</th>\n",
       "      <td>2025-05-16 12:25</td>\n",
       "      <td>test</td>\n",
       "      <td>data/run/test.toml</td>\n",
       "      <td>data/result/2025-05-16 12:25_test/loss.dat</td>\n",
       "      <td>data/result/2025-05-16 12:25_test/val_loss.dat</td>\n",
       "      <td>0.522673</td>\n",
       "      <td>-0.061073</td>\n",
       "      <td>0.519093</td>\n",
       "      <td>data/result/2025-05-16 12:25_test/result.csv</td>\n",
       "      <td>0:01:50.086238</td>\n",
       "      <td>sample note</td>\n",
       "    </tr>\n",
       "  </tbody>\n",
       "</table>\n",
       "</div>"
      ],
      "text/plain": [
       "           datetime run_name          run_config  \\\n",
       "0  2025-05-16 12:21     test  data/run/test.toml   \n",
       "1  2025-05-16 12:22     test  data/run/test.toml   \n",
       "2  2025-05-16 12:25     test  data/run/test.toml   \n",
       "\n",
       "                                         loss  \\\n",
       "0  data/result/2025-05-16 12:21_test/loss.dat   \n",
       "1  data/result/2025-05-16 12:22_test/loss.dat   \n",
       "2  data/result/2025-05-16 12:25_test/loss.dat   \n",
       "\n",
       "                                         val_loss   rms_dev       mae  \\\n",
       "0  data/result/2025-05-16 12:21_test/val_loss.dat  0.714002  0.007102   \n",
       "1  data/result/2025-05-16 12:22_test/val_loss.dat  0.567781 -0.081382   \n",
       "2  data/result/2025-05-16 12:25_test/val_loss.dat  0.522673 -0.061073   \n",
       "\n",
       "   std_diff                                   output_file        run_time  \\\n",
       "0  0.713967  data/result/2025-05-16 12:21_test/result.csv  0:00:13.753124   \n",
       "1  0.561918  data/result/2025-05-16 12:22_test/result.csv  0:00:32.467748   \n",
       "2  0.519093  data/result/2025-05-16 12:25_test/result.csv  0:01:50.086238   \n",
       "\n",
       "          note  \n",
       "0  sample note  \n",
       "1  sample note  \n",
       "2  sample note  "
      ]
     },
     "execution_count": 2,
     "metadata": {},
     "output_type": "execute_result"
    }
   ],
   "source": [
    "result_summary = pd.read_csv(\"summary.csv\").head()\n",
    "result_summary"
   ]
  },
  {
   "cell_type": "code",
   "execution_count": null,
   "metadata": {},
   "outputs": [
    {
     "ename": "AttributeError",
     "evalue": "'str' object has no attribute 'parent'",
     "output_type": "error",
     "traceback": [
      "\u001b[31m---------------------------------------------------------------------------\u001b[39m",
      "\u001b[31mAttributeError\u001b[39m                            Traceback (most recent call last)",
      "\u001b[36mCell\u001b[39m\u001b[36m \u001b[39m\u001b[32mIn[3]\u001b[39m\u001b[32m, line 3\u001b[39m\n\u001b[32m      1\u001b[39m loss = result_summary.loc[\u001b[32m2\u001b[39m, \u001b[33m\"\u001b[39m\u001b[33mloss\u001b[39m\u001b[33m\"\u001b[39m]\n\u001b[32m      2\u001b[39m val_loss = result_summary.loc[\u001b[32m2\u001b[39m, \u001b[33m\"\u001b[39m\u001b[33mval_loss\u001b[39m\u001b[33m\"\u001b[39m]\n\u001b[32m----> \u001b[39m\u001b[32m3\u001b[39m \u001b[43manalysis\u001b[49m\u001b[43m.\u001b[49m\u001b[43mplot\u001b[49m\u001b[43m.\u001b[49m\u001b[43mplot_loss\u001b[49m\u001b[43m(\u001b[49m\u001b[43mloss\u001b[49m\u001b[43m,\u001b[49m\u001b[43m \u001b[49m\u001b[43mval_loss\u001b[49m\u001b[43m)\u001b[49m\n",
      "\u001b[36mFile \u001b[39m\u001b[32m/mnt/Data/1_Project/ANN_Template/analysis/plot.py:10\u001b[39m, in \u001b[36mplot_loss\u001b[39m\u001b[34m(loss, val_loss)\u001b[39m\n\u001b[32m      8\u001b[39m loss_data = np.log10(np.loadtxt(loss))\n\u001b[32m      9\u001b[39m val_loss_data = np.log10(np.loadtxt(val_loss))\n\u001b[32m---> \u001b[39m\u001b[32m10\u001b[39m save_dir = \u001b[43mloss\u001b[49m\u001b[43m.\u001b[49m\u001b[43mparent\u001b[49m\n\u001b[32m     12\u001b[39m fig, ax = plt.subplots(\u001b[32m1\u001b[39m, \u001b[32m2\u001b[39m, figsize=(\u001b[32m12\u001b[39m, \u001b[32m4\u001b[39m))\n\u001b[32m     14\u001b[39m ax[\u001b[32m0\u001b[39m].plot(loss_data, color=\u001b[33m\"\u001b[39m\u001b[33mblue\u001b[39m\u001b[33m\"\u001b[39m)\n",
      "\u001b[31mAttributeError\u001b[39m: 'str' object has no attribute 'parent'"
     ]
    }
   ],
   "source": [
    "loss = Path(result_summary.loc[2, \"loss\"])\n",
    "val_loss = Path(result_summary.loc[2, \"val_loss\"])\n",
    "analysis.plot.plot_loss(loss, val_loss)"
   ]
  }
 ],
 "metadata": {
  "kernelspec": {
   "display_name": "ann",
   "language": "python",
   "name": "python3"
  },
  "language_info": {
   "codemirror_mode": {
    "name": "ipython",
    "version": 3
   },
   "file_extension": ".py",
   "mimetype": "text/x-python",
   "name": "python",
   "nbconvert_exporter": "python",
   "pygments_lexer": "ipython3",
   "version": "3.12.9"
  }
 },
 "nbformat": 4,
 "nbformat_minor": 2
}
